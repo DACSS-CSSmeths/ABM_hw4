{
 "cells": [
  {
   "cell_type": "markdown",
   "id": "83bdd6e2-7c9c-4623-8b88-08f2221c185d",
   "metadata": {},
   "source": [
    "<center><img src=\"https://github.com/DACSS-CSSmeths/guidelines/blob/main/pics/small_logo_ccs_meths.jpg?raw=true\" width=\"700\"/></center>\n",
    "\n",
    "_____\n",
    "<a id='home'></a>\n",
    "\n",
    "\n",
    "# Introduction to Social Simulation in NetLogo\n",
    "\n",
    "## Homework 4"
   ]
  },
  {
   "cell_type": "code",
   "execution_count": 3,
   "id": "afbda086-cc1d-4e02-860d-4a89ae074a86",
   "metadata": {},
   "outputs": [
    {
     "data": {
      "text/html": [
       "<iframe src=\"HW4_segregation_forClass.html\" width=\"1200\" height=\"800\" ></iframe>\n"
      ],
      "text/plain": [
       "<IPython.core.display.HTML object>"
      ]
     },
     "metadata": {},
     "output_type": "display_data"
    }
   ],
   "source": [
    "%%html\n",
    "<iframe src=\"HW4_segregation_forClass.html\" width=\"1200\" height=\"800\" ></iframe>"
   ]
  },
  {
   "cell_type": "markdown",
   "id": "08c7056a-d5c2-4613-bbbf-ccd59cc77403",
   "metadata": {},
   "source": [
    "<div class=\"alert alert-info\" role=\"alert\">\n",
    "    \n",
    "## You need to use the desktop version to run BehaviorSpace, as NetlogoWeb does not support that functionality yet.\n",
    "</div>\n",
    "\n"
   ]
  },
  {
   "cell_type": "markdown",
   "id": "1da95cdf-cc7c-4a85-906e-769d0045cd52",
   "metadata": {},
   "source": [
    "\n",
    "\n",
    "<div class=\"alert alert-warning\" role=\"alert\">\n",
    "    \n",
    "### You can download all the material from this [LINK to The REPO](https://github.com/DACSS-CSSmeths/ABM_hw4).\n",
    "\n",
    "</div>"
   ]
  }
 ],
 "metadata": {
  "kernelspec": {
   "display_name": "Python 3 (ipykernel)",
   "language": "python",
   "name": "python3"
  },
  "language_info": {
   "codemirror_mode": {
    "name": "ipython",
    "version": 3
   },
   "file_extension": ".py",
   "mimetype": "text/x-python",
   "name": "python",
   "nbconvert_exporter": "python",
   "pygments_lexer": "ipython3",
   "version": "3.10.16"
  }
 },
 "nbformat": 4,
 "nbformat_minor": 5
}
